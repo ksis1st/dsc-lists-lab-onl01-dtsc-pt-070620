{
 "cells": [
  {
   "cell_type": "markdown",
   "metadata": {},
   "source": [
    "# Working with Lists - Lab\n",
    "\n",
    "## Introduction\n",
    "Now that we have a sense of how to read from a list and alter a list in Python, let's put this knowledge to use. \n",
    "\n",
    "## Objectives\n",
    "You will be able to:\n",
    "* Use indexing to access elements in a list\n",
    "* Apply list methods to make changes to a list\n",
    "* Change elements of a list\n",
    "\n",
    "## Instructions\n",
    "\n",
    "In the previous lesson, we had a list of top travel cities."
   ]
  },
  {
   "cell_type": "code",
   "execution_count": 1,
   "metadata": {
    "ExecuteTime": {
     "end_time": "2020-07-19T19:31:24.136921Z",
     "start_time": "2020-07-19T19:31:24.132924Z"
    }
   },
   "outputs": [],
   "source": [
    "top_travel_cities = ['Solta', 'Greenville', 'Buenos Aires', 'Los Cabos', \n",
    "                     'Walla Walla Valley', 'Marakesh', 'Albuquerque', 'Archipelago Sea', \n",
    "                     'Iguazu Falls', 'Salina Island', 'Toronto', 'Pyeongchang']\n"
   ]
  },
  {
   "cell_type": "markdown",
   "metadata": {},
   "source": [
    "> Remember to press shift+enter to run each gray block of code (including the one above).  Otherwise, the variables will not be defined.\n",
    "\n",
    "In this lab we will work with a list of associated countries corresponding to each of the top travel cities."
   ]
  },
  {
   "cell_type": "code",
   "execution_count": 2,
   "metadata": {
    "ExecuteTime": {
     "end_time": "2020-07-19T19:31:29.880269Z",
     "start_time": "2020-07-19T19:31:29.875267Z"
    }
   },
   "outputs": [],
   "source": [
    "countries = ['Croatia',\n",
    " 'USA',\n",
    " 'Argentina',\n",
    " 'Mexico',\n",
    " 'USA',\n",
    " 'Morocco',\n",
    " 'New Mexico',\n",
    " 'Finland',\n",
    " 'Argentina',\n",
    " 'Italy',\n",
    " 'Canada',\n",
    " 'South Korea']"
   ]
  },
  {
   "cell_type": "markdown",
   "metadata": {},
   "source": [
    "> Run the code in the cell above by pressing shift + enter.\n",
    "\n",
    "The list of countries associated with each city has been assigned to the variable `countries`.  Now we will work with this list.\n",
    "\n",
    "## Accessing elements from lists\n",
    "\n",
    "First, set the variable `italy` to be equal to the third to last element from `countries`.  \n",
    ">**Note:** If you see an **error** stating that `countries` is undefined, it means you must press shift+enter in the second gray box where `countries` variable is assigned."
   ]
  },
  {
   "cell_type": "code",
   "execution_count": 3,
   "metadata": {
    "ExecuteTime": {
     "end_time": "2020-07-19T19:32:41.676690Z",
     "start_time": "2020-07-19T19:32:41.661704Z"
    }
   },
   "outputs": [
    {
     "data": {
      "text/plain": [
       "'Italy'"
      ]
     },
     "execution_count": 3,
     "metadata": {},
     "output_type": "execute_result"
    }
   ],
   "source": [
    "italy = countries[-3] # 'Italy'\n",
    "italy"
   ]
  },
  {
   "cell_type": "markdown",
   "metadata": {},
   "source": [
    "> We assigned the varible `italy` equal to `None`, but you should change the word `None` to code that uses the `countries` list to assign `italy` to `'Italy'`.  We wrote the variable `italy` a second time, so that you can see what it contains when you run the code block.  Currently, nothing is displayed below as it equals `None`, but when it's correct it will match the string which is commented out, `'Italy'`."
   ]
  },
  {
   "cell_type": "code",
   "execution_count": 4,
   "metadata": {
    "ExecuteTime": {
     "end_time": "2020-07-19T19:33:54.227398Z",
     "start_time": "2020-07-19T19:33:54.222401Z"
    }
   },
   "outputs": [
    {
     "data": {
      "text/plain": [
       "'Italy'"
      ]
     },
     "execution_count": 4,
     "metadata": {},
     "output_type": "execute_result"
    }
   ],
   "source": [
    "italy # 'Italy'"
   ]
  },
  {
   "cell_type": "markdown",
   "metadata": {},
   "source": [
    "Now access the fourth element and set it equal to the variable `mexico`."
   ]
  },
  {
   "cell_type": "code",
   "execution_count": 5,
   "metadata": {
    "ExecuteTime": {
     "end_time": "2020-07-19T19:34:21.349135Z",
     "start_time": "2020-07-19T19:34:21.344137Z"
    }
   },
   "outputs": [
    {
     "data": {
      "text/plain": [
       "'Mexico'"
      ]
     },
     "execution_count": 5,
     "metadata": {},
     "output_type": "execute_result"
    }
   ],
   "source": [
    "mexico = countries[3]\n",
    "mexico"
   ]
  },
  {
   "cell_type": "markdown",
   "metadata": {},
   "source": [
    "Notice that the second through fifth elements are all in a row and all in the Western Hemisphere.  Assign that subset of elements to a variable called `kindof_neighbors`."
   ]
  },
  {
   "cell_type": "code",
   "execution_count": 7,
   "metadata": {
    "ExecuteTime": {
     "end_time": "2020-07-19T19:35:54.715666Z",
     "start_time": "2020-07-19T19:35:54.710671Z"
    }
   },
   "outputs": [
    {
     "data": {
      "text/plain": [
       "['USA', 'Argentina', 'Mexico', 'USA']"
      ]
     },
     "execution_count": 7,
     "metadata": {},
     "output_type": "execute_result"
    }
   ],
   "source": [
    "kindof_neighbors = countries[1:5]\n",
    "kindof_neighbors"
   ]
  },
  {
   "cell_type": "markdown",
   "metadata": {},
   "source": [
    "## Changing Elements\n",
    "\n",
    "Ok, now let's add a couple of countries onto this list.  At the end of the list, add the country 'Malta'."
   ]
  },
  {
   "cell_type": "code",
   "execution_count": 8,
   "metadata": {
    "ExecuteTime": {
     "end_time": "2020-07-19T19:37:03.340927Z",
     "start_time": "2020-07-19T19:37:03.335947Z"
    }
   },
   "outputs": [],
   "source": [
    "countries.append('Malta')"
   ]
  },
  {
   "cell_type": "code",
   "execution_count": 9,
   "metadata": {
    "ExecuteTime": {
     "end_time": "2020-07-19T19:37:23.915582Z",
     "start_time": "2020-07-19T19:37:23.909585Z"
    }
   },
   "outputs": [
    {
     "data": {
      "text/plain": [
       "['Croatia',\n",
       " 'USA',\n",
       " 'Argentina',\n",
       " 'Mexico',\n",
       " 'USA',\n",
       " 'Morocco',\n",
       " 'New Mexico',\n",
       " 'Finland',\n",
       " 'Argentina',\n",
       " 'Italy',\n",
       " 'Canada',\n",
       " 'South Korea',\n",
       " 'Malta']"
      ]
     },
     "execution_count": 9,
     "metadata": {},
     "output_type": "execute_result"
    }
   ],
   "source": [
    "countries"
   ]
  },
  {
   "cell_type": "markdown",
   "metadata": {},
   "source": [
    "Then add the country 'Thailand'."
   ]
  },
  {
   "cell_type": "code",
   "execution_count": 10,
   "metadata": {
    "ExecuteTime": {
     "end_time": "2020-07-19T19:37:58.340449Z",
     "start_time": "2020-07-19T19:37:58.335450Z"
    }
   },
   "outputs": [],
   "source": [
    "countries.append('Thailand')"
   ]
  },
  {
   "cell_type": "markdown",
   "metadata": {},
   "source": [
    "Now your list of countries should look like the following."
   ]
  },
  {
   "cell_type": "code",
   "execution_count": 11,
   "metadata": {
    "ExecuteTime": {
     "end_time": "2020-07-19T19:38:08.013588Z",
     "start_time": "2020-07-19T19:38:08.007592Z"
    }
   },
   "outputs": [
    {
     "data": {
      "text/plain": [
       "['Croatia',\n",
       " 'USA',\n",
       " 'Argentina',\n",
       " 'Mexico',\n",
       " 'USA',\n",
       " 'Morocco',\n",
       " 'New Mexico',\n",
       " 'Finland',\n",
       " 'Argentina',\n",
       " 'Italy',\n",
       " 'Canada',\n",
       " 'South Korea',\n",
       " 'Malta',\n",
       " 'Thailand']"
      ]
     },
     "execution_count": 11,
     "metadata": {},
     "output_type": "execute_result"
    }
   ],
   "source": [
    "countries \n",
    "# ['Croatia', 'USA', 'Argentina', 'Mexico', 'USA', 'Morocco', 'New Mexico', 'Finland', \n",
    "# 'Argentina', 'Italy',  'Canada', 'South Korea',  'Malta',  'Thailand']"
   ]
  },
  {
   "cell_type": "markdown",
   "metadata": {},
   "source": [
    "You may have noticed that \"New Mexico\" is included in our list of countries.  That doesn't seem right.  Let's change 'New Mexico' to 'USA'."
   ]
  },
  {
   "cell_type": "code",
   "execution_count": 12,
   "metadata": {
    "ExecuteTime": {
     "end_time": "2020-07-19T19:43:51.147582Z",
     "start_time": "2020-07-19T19:43:51.142585Z"
    }
   },
   "outputs": [
    {
     "data": {
      "text/plain": [
       "'New Mexico'"
      ]
     },
     "execution_count": 12,
     "metadata": {},
     "output_type": "execute_result"
    }
   ],
   "source": [
    "countries[6] # add code here"
   ]
  },
  {
   "cell_type": "code",
   "execution_count": 13,
   "metadata": {
    "ExecuteTime": {
     "end_time": "2020-07-19T19:45:23.598471Z",
     "start_time": "2020-07-19T19:45:23.594473Z"
    }
   },
   "outputs": [],
   "source": [
    "countries[6]='USA'"
   ]
  },
  {
   "cell_type": "code",
   "execution_count": 15,
   "metadata": {
    "ExecuteTime": {
     "end_time": "2020-07-19T19:47:47.719237Z",
     "start_time": "2020-07-19T19:47:47.716236Z"
    }
   },
   "outputs": [],
   "source": [
    "countries[6]='New Mexico'"
   ]
  },
  {
   "cell_type": "code",
   "execution_count": 16,
   "metadata": {
    "ExecuteTime": {
     "end_time": "2020-07-19T19:49:25.587516Z",
     "start_time": "2020-07-19T19:49:25.584518Z"
    }
   },
   "outputs": [],
   "source": [
    "countries[6]='USA'"
   ]
  },
  {
   "cell_type": "code",
   "execution_count": 17,
   "metadata": {
    "ExecuteTime": {
     "end_time": "2020-07-19T19:49:30.080546Z",
     "start_time": "2020-07-19T19:49:30.075552Z"
    }
   },
   "outputs": [
    {
     "data": {
      "text/plain": [
       "['Croatia',\n",
       " 'USA',\n",
       " 'Argentina',\n",
       " 'Mexico',\n",
       " 'USA',\n",
       " 'Morocco',\n",
       " 'USA',\n",
       " 'Finland',\n",
       " 'Argentina',\n",
       " 'Italy',\n",
       " 'Canada',\n",
       " 'South Korea',\n",
       " 'Malta',\n",
       " 'Thailand']"
      ]
     },
     "execution_count": 17,
     "metadata": {},
     "output_type": "execute_result"
    }
   ],
   "source": [
    "countries \n",
    "# ['Croatia', 'USA', 'Argentina', 'Mexico', 'USA', 'Morocco', 'USA', 'Finland', \n",
    "# 'Argentina', 'Italy',  'Canada', 'South Korea',  'Malta',  'Thailand']"
   ]
  },
  {
   "cell_type": "markdown",
   "metadata": {},
   "source": [
    "Finally, let's remove Thailand from the list.  No good reason, we're acting on whimsy."
   ]
  },
  {
   "cell_type": "code",
   "execution_count": 18,
   "metadata": {
    "ExecuteTime": {
     "end_time": "2020-07-19T19:49:48.747396Z",
     "start_time": "2020-07-19T19:49:48.742401Z"
    }
   },
   "outputs": [
    {
     "data": {
      "text/plain": [
       "'Thailand'"
      ]
     },
     "execution_count": 18,
     "metadata": {},
     "output_type": "execute_result"
    }
   ],
   "source": [
    "countries.pop() # 'Thailand'"
   ]
  },
  {
   "cell_type": "code",
   "execution_count": 19,
   "metadata": {
    "ExecuteTime": {
     "end_time": "2020-07-19T19:49:52.589612Z",
     "start_time": "2020-07-19T19:49:52.584615Z"
    }
   },
   "outputs": [
    {
     "name": "stdout",
     "output_type": "stream",
     "text": [
      "['Croatia', 'USA', 'Argentina', 'Mexico', 'USA', 'Morocco', 'USA', 'Finland', 'Argentina', 'Italy', 'Canada', 'South Korea', 'Malta']\n"
     ]
    }
   ],
   "source": [
    "print(countries)"
   ]
  },
  {
   "cell_type": "markdown",
   "metadata": {},
   "source": [
    "## Exploring Lists with Methods\n",
    "\n",
    "Ok, now we notice that some countries are mentioned more than once.  Let's see how many repeat countries are on this list.  \n",
    "\n",
    "First, use the `set` and `list` functions to return a unique list of countries.  Set this list equal to the variable `unique_countries`."
   ]
  },
  {
   "cell_type": "code",
   "execution_count": 22,
   "metadata": {
    "ExecuteTime": {
     "end_time": "2020-07-19T19:52:51.184380Z",
     "start_time": "2020-07-19T19:52:51.181384Z"
    }
   },
   "outputs": [],
   "source": [
    "unique_countries = list(set(countries))"
   ]
  },
  {
   "cell_type": "code",
   "execution_count": 23,
   "metadata": {
    "ExecuteTime": {
     "end_time": "2020-07-19T19:52:55.533831Z",
     "start_time": "2020-07-19T19:52:55.528835Z"
    }
   },
   "outputs": [
    {
     "data": {
      "text/plain": [
       "['Mexico',\n",
       " 'Croatia',\n",
       " 'USA',\n",
       " 'Italy',\n",
       " 'South Korea',\n",
       " 'Argentina',\n",
       " 'Canada',\n",
       " 'Morocco',\n",
       " 'Malta',\n",
       " 'Finland']"
      ]
     },
     "execution_count": 23,
     "metadata": {},
     "output_type": "execute_result"
    }
   ],
   "source": [
    "unique_countries # ['Canada', 'Italy', 'USA', 'Mexico', 'Finland', \n",
    "#'Malta', 'Morocco', 'Croatia', 'Argentina', 'South Korea']"
   ]
  },
  {
   "cell_type": "markdown",
   "metadata": {},
   "source": [
    "Now the number of repeat countries should be the number of countries minus the number of unique countries.  So use the `len` function on both `unique_countries` and `countries` to calculate this and assign the result to the variable `num_of_repeats`."
   ]
  },
  {
   "cell_type": "code",
   "execution_count": 24,
   "metadata": {
    "ExecuteTime": {
     "end_time": "2020-07-19T19:54:44.320162Z",
     "start_time": "2020-07-19T19:54:44.314165Z"
    }
   },
   "outputs": [
    {
     "data": {
      "text/plain": [
       "3"
      ]
     },
     "execution_count": 24,
     "metadata": {},
     "output_type": "execute_result"
    }
   ],
   "source": [
    "num_of_repeats = len(countries)-len(unique_countries)\n",
    "num_of_repeats # 3"
   ]
  },
  {
   "cell_type": "markdown",
   "metadata": {},
   "source": [
    "## Summary\n",
    "\n",
    "In this lesson, we practiced working with lists in Python. We saw how to index lists to select specific elements, how to use list methods to change lists, and how to add and remove elements from a list. Finally, we saw how to use a set to calculate the number of unique elements in the list."
   ]
  }
 ],
 "metadata": {
  "kernelspec": {
   "display_name": "Python 3",
   "language": "python",
   "name": "python3"
  },
  "language_info": {
   "codemirror_mode": {
    "name": "ipython",
    "version": 3
   },
   "file_extension": ".py",
   "mimetype": "text/x-python",
   "name": "python",
   "nbconvert_exporter": "python",
   "pygments_lexer": "ipython3",
   "version": "3.6.9"
  },
  "toc": {
   "base_numbering": 1,
   "nav_menu": {},
   "number_sections": false,
   "sideBar": true,
   "skip_h1_title": false,
   "title_cell": "Table of Contents",
   "title_sidebar": "Contents",
   "toc_cell": false,
   "toc_position": {},
   "toc_section_display": true,
   "toc_window_display": false
  },
  "varInspector": {
   "cols": {
    "lenName": 16,
    "lenType": 16,
    "lenVar": 40
   },
   "kernels_config": {
    "python": {
     "delete_cmd_postfix": "",
     "delete_cmd_prefix": "del ",
     "library": "var_list.py",
     "varRefreshCmd": "print(var_dic_list())"
    },
    "r": {
     "delete_cmd_postfix": ") ",
     "delete_cmd_prefix": "rm(",
     "library": "var_list.r",
     "varRefreshCmd": "cat(var_dic_list()) "
    }
   },
   "types_to_exclude": [
    "module",
    "function",
    "builtin_function_or_method",
    "instance",
    "_Feature"
   ],
   "window_display": false
  }
 },
 "nbformat": 4,
 "nbformat_minor": 2
}
